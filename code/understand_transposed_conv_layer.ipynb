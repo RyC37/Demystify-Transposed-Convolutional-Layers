{
 "cells": [
  {
   "cell_type": "code",
   "execution_count": 1,
   "metadata": {},
   "outputs": [],
   "source": [
    "import torch\n",
    "from torch import nn"
   ]
  },
  {
   "cell_type": "code",
   "execution_count": 2,
   "metadata": {},
   "outputs": [],
   "source": [
    "input_data = torch.tensor([[[[1.,2.],[3.,4.]]]])"
   ]
  },
  {
   "cell_type": "markdown",
   "metadata": {},
   "source": [
    "### 1.Basic"
   ]
  },
  {
   "cell_type": "code",
   "execution_count": 26,
   "metadata": {},
   "outputs": [
    {
     "data": {
      "text/plain": [
       "tensor([[[[ 1.,  3.,  3.,  2.],\n",
       "          [ 4., 10., 10.,  6.],\n",
       "          [ 4., 10., 10.,  6.],\n",
       "          [ 3.,  7.,  7.,  4.]]]])"
      ]
     },
     "execution_count": 26,
     "metadata": {},
     "output_type": "execute_result"
    }
   ],
   "source": [
    "# Create 2x2 input tensor\n",
    "input_data = torch.tensor([[[[1.,2.],[3.,4.]]]])\n",
    "# Create a TCL layer with kernel_size=3\n",
    "transConv1 = nn.ConvTranspose2d(1, 1, 3, bias=False)\n",
    "# Set kernel weights to be 1\n",
    "transConv1.weight.data = torch.ones(1,1,3,3)\n",
    "# Disable gradient decent\n",
    "for w in transConv1.parameters():\n",
    "    w.requires_grad = False\n",
    "# Calculate the output\n",
    "transConv1(input_data)"
   ]
  },
  {
   "cell_type": "markdown",
   "metadata": {},
   "source": [
    "### 2.Stride"
   ]
  },
  {
   "cell_type": "code",
   "execution_count": 27,
   "metadata": {},
   "outputs": [
    {
     "data": {
      "text/plain": [
       "tensor([[[[ 1.,  1.,  3.,  2.,  2.],\n",
       "          [ 1.,  1.,  3.,  2.,  2.],\n",
       "          [ 4.,  4., 10.,  6.,  6.],\n",
       "          [ 3.,  3.,  7.,  4.,  4.],\n",
       "          [ 3.,  3.,  7.,  4.,  4.]]]])"
      ]
     },
     "execution_count": 27,
     "metadata": {},
     "output_type": "execute_result"
    }
   ],
   "source": [
    "# Create a TCL layer with stride=2\n",
    "transConv2 = nn.ConvTranspose2d(1, 1, 3, stride=2, bias=False)\n",
    "# Set kernel weights to be 1\n",
    "transConv2.weight.data = torch.ones(1,1,3,3)\n",
    "# Disable gradient decent\n",
    "for w in transConv2.parameters():\n",
    "    w.requires_grad = False\n",
    "# Calculate\n",
    "transConv2(input_data)"
   ]
  },
  {
   "cell_type": "markdown",
   "metadata": {},
   "source": [
    "### 3.Padding"
   ]
  },
  {
   "cell_type": "code",
   "execution_count": 28,
   "metadata": {},
   "outputs": [
    {
     "data": {
      "text/plain": [
       "tensor([[[[ 1.,  3.,  2.],\n",
       "          [ 4., 10.,  6.],\n",
       "          [ 3.,  7.,  4.]]]])"
      ]
     },
     "execution_count": 28,
     "metadata": {},
     "output_type": "execute_result"
    }
   ],
   "source": [
    "# Create a TCL layer with stride=2, padding=1\n",
    "transConv3 = nn.ConvTranspose2d(1, 1, 3, stride=2, padding=1, bias=False)\n",
    "# Set kernel weights to be 1\n",
    "transConv3.weight.data = torch.ones(1,1,3,3)\n",
    "# Disable gradient decent\n",
    "for w in transConv3.parameters():\n",
    "    w.requires_grad = False\n",
    "# Calculate\n",
    "transConv3(input_data)"
   ]
  },
  {
   "cell_type": "markdown",
   "metadata": {},
   "source": [
    "### 4.Output Padding"
   ]
  },
  {
   "cell_type": "code",
   "execution_count": 29,
   "metadata": {},
   "outputs": [
    {
     "data": {
      "text/plain": [
       "tensor([[[[ 1.,  1.,  3.,  2.,  2.,  0.],\n",
       "          [ 1.,  1.,  3.,  2.,  2.,  0.],\n",
       "          [ 4.,  4., 10.,  6.,  6.,  0.],\n",
       "          [ 3.,  3.,  7.,  4.,  4.,  0.],\n",
       "          [ 3.,  3.,  7.,  4.,  4.,  0.],\n",
       "          [ 0.,  0.,  0.,  0.,  0.,  0.]]]])"
      ]
     },
     "execution_count": 29,
     "metadata": {},
     "output_type": "execute_result"
    }
   ],
   "source": [
    "# Create a TCL layer with stride=2, output_padding=1\n",
    "transConv4 = nn.ConvTranspose2d(1, 1, 3, stride=2, output_padding=1, bias=False)\n",
    "# Set kernel weights to be 1\n",
    "transConv4.weight.data = torch.ones(1,1,3,3)\n",
    "# Disable gradient decent\n",
    "for w in transConv4.parameters():\n",
    "    w.requires_grad = False\n",
    "# Calculate\n",
    "transConv4(input_data)"
   ]
  },
  {
   "cell_type": "markdown",
   "metadata": {},
   "source": [
    "### 5.Dilation"
   ]
  },
  {
   "cell_type": "code",
   "execution_count": 30,
   "metadata": {},
   "outputs": [
    {
     "data": {
      "text/plain": [
       "tensor([[[[ 1.,  0.,  3.,  0.,  2.],\n",
       "          [ 0.,  0.,  0.,  0.,  0.],\n",
       "          [ 4.,  0., 10.,  0.,  6.],\n",
       "          [ 0.,  0.,  0.,  0.,  0.],\n",
       "          [ 3.,  0.,  7.,  0.,  4.]]]])"
      ]
     },
     "execution_count": 30,
     "metadata": {},
     "output_type": "execute_result"
    }
   ],
   "source": [
    "# Create a TCL layer with kernel_size=2, stride=2, dilation=2\n",
    "transConv5 = nn.ConvTranspose2d(1, 1, 2, stride=2, dilation=2, bias=False)\n",
    "# Set kernel weights to be 1\n",
    "transConv5.weight.data = torch.ones(1,1,2,2)\n",
    "# Disable gradient decent\n",
    "for w in transConv5.parameters():\n",
    "    w.requires_grad = False\n",
    "# Calculate\n",
    "transConv5(input_data)"
   ]
  }
 ],
 "metadata": {
  "kernelspec": {
   "display_name": "Python (py3)",
   "language": "python",
   "name": "py3"
  },
  "language_info": {
   "codemirror_mode": {
    "name": "ipython",
    "version": 3
   },
   "file_extension": ".py",
   "mimetype": "text/x-python",
   "name": "python",
   "nbconvert_exporter": "python",
   "pygments_lexer": "ipython3",
   "version": "3.8.2"
  }
 },
 "nbformat": 4,
 "nbformat_minor": 4
}
